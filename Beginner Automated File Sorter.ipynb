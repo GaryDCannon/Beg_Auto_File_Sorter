{
 "cells": [
  {
   "cell_type": "code",
   "execution_count": 8,
   "id": "4078cf1b",
   "metadata": {},
   "outputs": [],
   "source": [
    "import os, shutil"
   ]
  },
  {
   "cell_type": "code",
   "execution_count": 9,
   "id": "40849840",
   "metadata": {},
   "outputs": [],
   "source": [
    "path = r\"C:/Users/Gary Cannon/Python/File Sorter Project/\""
   ]
  },
  {
   "cell_type": "code",
   "execution_count": 10,
   "id": "7517cb2a",
   "metadata": {},
   "outputs": [],
   "source": [
    "file_name = os.listdir(path)"
   ]
  },
  {
   "cell_type": "code",
   "execution_count": 11,
   "id": "908fe78c",
   "metadata": {},
   "outputs": [],
   "source": [
    "folder_names = ['jpg files', 'svg files', 'docx files', 'png files', 'xlsx files']\n",
    "\n",
    "for loop in range(0,5):\n",
    "    if not os.path.exists(path + folder_names[loop]):\n",
    "        os.makedirs((path + folder_names[loop]))\n",
    "        \n",
    "for file in file_name:\n",
    "    if \".jpg\" in file and not os.path.exists(path + \"jpg files/\" + file):\n",
    "        shutil.move(path + file, path + \"jpg files/\" + file)\n",
    "    elif \".svg\" in file and not os.path.exists(path + \"svg files/\" + file):\n",
    "        shutil.move(path + file, path + \"svg files/\" + file)\n",
    "    elif \".docx\" in file and not os.path.exists(path + \"docx files/\" + file):\n",
    "        shutil.move(path + file, path + \"docx files/\" + file)\n",
    "    elif \".png\" in file and not os.path.exists(path + \"png files/\" + file):\n",
    "        shutil.move(path + file, path + \"png files/\" + file)\n",
    "    elif \".xlsx\" in file and not os.path.exists(path + \"xlsx files/\" + file):\n",
    "        shutil.move(path + file, path + \"xlsx files/\" + file)"
   ]
  },
  {
   "cell_type": "code",
   "execution_count": null,
   "id": "d5f0517f",
   "metadata": {},
   "outputs": [],
   "source": []
  }
 ],
 "metadata": {
  "kernelspec": {
   "display_name": "Python 3 (ipykernel)",
   "language": "python",
   "name": "python3"
  },
  "language_info": {
   "codemirror_mode": {
    "name": "ipython",
    "version": 3
   },
   "file_extension": ".py",
   "mimetype": "text/x-python",
   "name": "python",
   "nbconvert_exporter": "python",
   "pygments_lexer": "ipython3",
   "version": "3.11.5"
  }
 },
 "nbformat": 4,
 "nbformat_minor": 5
}
